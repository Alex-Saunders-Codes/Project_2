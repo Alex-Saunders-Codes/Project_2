{
 "cells": [
  {
   "cell_type": "code",
   "execution_count": 1,
   "id": "d2dbc9bb-e04a-4344-b990-b2a9690b33d8",
   "metadata": {},
   "outputs": [],
   "source": [
    "import pandas as pd"
   ]
  },
  {
   "cell_type": "code",
   "execution_count": 2,
   "id": "ca9f4d14-ac2c-4456-b320-2a6cf5f2fcd4",
   "metadata": {},
   "outputs": [],
   "source": [
    "sdp = 'school-distinctive-programmes.csv'\n",
    "cca = 'co-curricular-activities-ccas.csv'\n",
    "mp = 'moe-programmes.csv'\n",
    "so = 'subjects-offered.csv'\n",
    "gi = 'general-information-of-schools.csv'"
   ]
  },
  {
   "cell_type": "code",
   "execution_count": 3,
   "id": "5eed2c4f-8b80-4a8f-bc3b-f46a1754ddd3",
   "metadata": {},
   "outputs": [],
   "source": [
    "sdp_df = pd.read_csv(sdp, encoding=\"ISO-8859-1\")\n",
    "cca_df = pd.read_csv(cca, encoding=\"ISO-8859-1\")\n",
    "mp_df = pd.read_csv(mp, encoding=\"ISO-8859-1\")\n",
    "so_df = pd.read_csv(so, encoding=\"ISO-8859-1\")\n",
    "gi_df = pd.read_csv(gi, encoding=\"ISO-8859-1\")"
   ]
  },
  {
   "cell_type": "code",
   "execution_count": 4,
   "id": "662b9b4f-e469-4850-a834-858a9873fe4f",
   "metadata": {},
   "outputs": [],
   "source": [
    "school_info = gi_df.merge(sdp_df, how='outer', on='school_name')"
   ]
  },
  {
   "cell_type": "code",
   "execution_count": 5,
   "id": "f59530cb-8f1e-470b-91a6-3cea22bbf0ae",
   "metadata": {},
   "outputs": [],
   "source": [
    "school_info_stem = school_info.loc[school_info[\"alp_domain\"] == \"STEM\"].copy()"
   ]
  },
  {
   "cell_type": "code",
   "execution_count": 6,
   "id": "68431a92-3266-4c1f-95d6-5d45623eb41e",
   "metadata": {},
   "outputs": [],
   "source": [
    "school_info_stem.reset_index(inplace = True)"
   ]
  },
  {
   "cell_type": "code",
   "execution_count": 7,
   "id": "f5902c6e-6816-424b-8935-d2ba02372f76",
   "metadata": {},
   "outputs": [],
   "source": [
    "school_info_stem.rename(columns = {\"index\": \"school_id\"}, inplace = True)"
   ]
  },
  {
   "cell_type": "code",
   "execution_count": 8,
   "id": "5db74a9c-fd8b-4d3b-a294-495f6f56f43a",
   "metadata": {},
   "outputs": [],
   "source": [
    "school_info_stem.drop(['third_vp_name', 'fourth_vp_name', \"fifth_vp_name\", \"sixth_vp_name\",\n",
    "                      \"llp_domain2\", \"llp_title2\"], axis = 1, inplace = True)"
   ]
  },
  {
   "cell_type": "code",
   "execution_count": 9,
   "id": "adef313e-e77b-4939-bc4f-eedffece692d",
   "metadata": {},
   "outputs": [],
   "source": [
    "school_info_stem.to_csv(\"sqlfiles/school_info.csv\", index=False, header=True)"
   ]
  },
  {
   "cell_type": "code",
   "execution_count": 10,
   "id": "e25ba7ad-8637-4a76-ba2a-685c2eb65c5a",
   "metadata": {},
   "outputs": [],
   "source": [
    "# main_df = sdp_df.merge(cca_df, how='outer', on='school_name')"
   ]
  },
  {
   "cell_type": "code",
   "execution_count": 11,
   "id": "3e88cf40-ecdd-417d-8359-eb68278fef17",
   "metadata": {},
   "outputs": [],
   "source": [
    "# main_df.head()"
   ]
  },
  {
   "cell_type": "code",
   "execution_count": 12,
   "id": "cb6f3b3f-5b48-43bc-9ce9-db84cdd74d91",
   "metadata": {},
   "outputs": [],
   "source": [
    "# merge_two = main_df.merge(mp_df, how='outer', on='school_name')"
   ]
  },
  {
   "cell_type": "code",
   "execution_count": 13,
   "id": "bc1deed9-aeb1-4be9-b7dc-f9e17e6a0ac3",
   "metadata": {},
   "outputs": [],
   "source": [
    "# merge_two"
   ]
  },
  {
   "cell_type": "code",
   "execution_count": 14,
   "id": "2d257537-1383-4dbe-bc95-5314b7ef5d2a",
   "metadata": {},
   "outputs": [],
   "source": [
    "# final_df = merge_two.merge(so_df, how='outer', on='school_name')"
   ]
  },
  {
   "cell_type": "code",
   "execution_count": 15,
   "id": "60288ddf-9794-465d-879b-fc991925e61f",
   "metadata": {},
   "outputs": [],
   "source": [
    "# final_df"
   ]
  },
  {
   "cell_type": "code",
   "execution_count": 16,
   "id": "e699d4cf-13da-41b9-8625-90e11188ed62",
   "metadata": {},
   "outputs": [],
   "source": [
    "# stem_df = final_df.loc[final_df[\"alp_domain\"] == \"STEM\"]"
   ]
  },
  {
   "cell_type": "code",
   "execution_count": 17,
   "id": "fa6d94c8-63f2-49a3-bc4d-192c9362f864",
   "metadata": {},
   "outputs": [],
   "source": [
    "# stem_df.count()"
   ]
  },
  {
   "cell_type": "code",
   "execution_count": 18,
   "id": "5f500bc9-2480-4e21-aa10-13b3b57a0095",
   "metadata": {},
   "outputs": [],
   "source": [
    "# stem_df_clean = stem_df.drop([\"llp_domain2\", \"llp_title2\"], axis=1)"
   ]
  },
  {
   "cell_type": "code",
   "execution_count": 19,
   "id": "216a8a89-af76-4fcb-87e3-b49055d62214",
   "metadata": {},
   "outputs": [],
   "source": [
    "# stem_df_clean.count()"
   ]
  },
  {
   "cell_type": "code",
   "execution_count": 20,
   "id": "b2c4b45c-3129-464d-8785-f230d28c7945",
   "metadata": {},
   "outputs": [],
   "source": [
    "# stem_df_final = stem_df_clean.merge(gi_df, how='outer', on='school_name')"
   ]
  },
  {
   "cell_type": "code",
   "execution_count": 21,
   "id": "ec9bba95-a76c-4f37-a2ae-88414946c039",
   "metadata": {},
   "outputs": [],
   "source": [
    "cca_clean = cca_df.copy()"
   ]
  },
  {
   "cell_type": "code",
   "execution_count": 22,
   "id": "254ac6b0-9777-4082-beaf-f53124e1b324",
   "metadata": {},
   "outputs": [],
   "source": [
    "cca_sql = school_info_stem[[\"school_id\", \"school_name\"]]"
   ]
  },
  {
   "cell_type": "code",
   "execution_count": 23,
   "id": "2763bca1-beaa-45f8-9d99-5e3f4b56e90a",
   "metadata": {},
   "outputs": [],
   "source": [
    "cca_clean = cca_clean.merge(cca_sql, how='outer', on='school_name')"
   ]
  },
  {
   "cell_type": "code",
   "execution_count": 24,
   "id": "3cdbd762-5600-44f6-8313-eaf42c0625ab",
   "metadata": {},
   "outputs": [],
   "source": [
    "cca_clean.drop(columns = [\"school_name\"], inplace = True)"
   ]
  },
  {
   "cell_type": "code",
   "execution_count": 25,
   "id": "12e43eab-2056-4727-8aa1-de6fb8b7937a",
   "metadata": {},
   "outputs": [],
   "source": [
    "cca_clean.dropna(inplace = True)\n",
    "cca_clean[\"school_id\"] = cca_clean[\"school_id\"].astype(int)"
   ]
  },
  {
   "cell_type": "code",
   "execution_count": 26,
   "id": "f1c3a99a-5381-48a1-9266-9f6aa015f53d",
   "metadata": {},
   "outputs": [],
   "source": [
    "cca_clean.to_csv(\"sqlfiles/cca.csv\", index=False, header=True)"
   ]
  },
  {
   "cell_type": "code",
   "execution_count": 27,
   "id": "89a10ec5-35be-4707-b036-a992dc3f8b8c",
   "metadata": {},
   "outputs": [],
   "source": [
    "school_subjects = pd.DataFrame(so_df[\"subject_desc\"].unique()).reset_index()"
   ]
  },
  {
   "cell_type": "code",
   "execution_count": 28,
   "id": "a395832d-9a5c-4d4a-bd75-8794adb6e3b5",
   "metadata": {},
   "outputs": [],
   "source": [
    "so_sql = so_df.copy()"
   ]
  },
  {
   "cell_type": "code",
   "execution_count": 29,
   "id": "53472282-522e-4d30-bcc9-b673cfad2f06",
   "metadata": {},
   "outputs": [],
   "source": [
    "so_sql = so_sql.merge(school_subjects, how='outer', left_on='subject_desc', right_on=0)"
   ]
  },
  {
   "cell_type": "code",
   "execution_count": 30,
   "id": "6df475e7-2195-4521-a5e2-5fd5a4fb188d",
   "metadata": {},
   "outputs": [],
   "source": [
    "so_clean = so_sql.merge(cca_sql, how='outer', on='school_name')"
   ]
  },
  {
   "cell_type": "code",
   "execution_count": 31,
   "id": "54b18be4-bda8-4509-891c-5ad791523025",
   "metadata": {},
   "outputs": [],
   "source": [
    "so_clean.dropna(inplace=True)"
   ]
  },
  {
   "cell_type": "code",
   "execution_count": 32,
   "id": "ac72f564-db43-45d6-9db2-b5158258b8e7",
   "metadata": {},
   "outputs": [],
   "source": [
    "so_clean[\"index\"] = so_clean[\"index\"].astype(int)"
   ]
  },
  {
   "cell_type": "code",
   "execution_count": 33,
   "id": "447c4ef1-b070-4d26-ba51-d70b18479db1",
   "metadata": {},
   "outputs": [],
   "source": [
    "so_clean.drop(columns = [\"school_name\", \"subject_desc\",0], inplace = True)"
   ]
  },
  {
   "cell_type": "code",
   "execution_count": 34,
   "id": "9d21660a-bc6a-4467-ae64-d3aa4de98f5c",
   "metadata": {},
   "outputs": [],
   "source": [
    "so_clean.rename(columns = {\"index\": \"subject_id\"}, inplace = True)\n",
    "so_clean[\"school_id\"] = so_clean[\"school_id\"].astype(int)"
   ]
  },
  {
   "cell_type": "code",
   "execution_count": 35,
   "id": "1cf8a9bb-6efe-448d-9979-edf4f1d76bf5",
   "metadata": {},
   "outputs": [],
   "source": [
    "so_clean.to_csv(\"sqlfiles/school_subjects.csv\", index=False, header=True)"
   ]
  },
  {
   "cell_type": "code",
   "execution_count": 36,
   "id": "b09e273a-2c26-4a00-b8d1-0d96c4b27444",
   "metadata": {},
   "outputs": [],
   "source": [
    "school_subjects.rename(columns = {\"index\": \"subject_id\", 0:\"subject_name\"}, inplace = True)"
   ]
  },
  {
   "cell_type": "code",
   "execution_count": 37,
   "id": "a5a8e8b5-0c24-4c3b-b80c-1649d2a4d918",
   "metadata": {},
   "outputs": [],
   "source": [
    "school_subjects.to_csv(\"sqlfiles/subjects.csv\", index=False, header=True)"
   ]
  },
  {
   "cell_type": "code",
   "execution_count": null,
   "id": "2dede80c-e51c-4bff-a7a3-b96f63457ca9",
   "metadata": {},
   "outputs": [],
   "source": []
  },
  {
   "cell_type": "code",
   "execution_count": null,
   "id": "f67cc550-ec9f-46fb-a420-1d846727ca35",
   "metadata": {},
   "outputs": [],
   "source": []
  },
  {
   "cell_type": "code",
   "execution_count": null,
   "id": "8e50237b-094f-4bc0-9003-5c7f198c8248",
   "metadata": {},
   "outputs": [],
   "source": []
  },
  {
   "cell_type": "code",
   "execution_count": null,
   "id": "51432421-2446-4366-bfa1-9dcc8ceb4fec",
   "metadata": {},
   "outputs": [],
   "source": []
  },
  {
   "cell_type": "code",
   "execution_count": null,
   "id": "e37e19f2-e8c2-4368-80f1-7372429d053b",
   "metadata": {},
   "outputs": [],
   "source": []
  }
 ],
 "metadata": {
  "kernelspec": {
   "display_name": "Python 3",
   "language": "python",
   "name": "python3"
  },
  "language_info": {
   "codemirror_mode": {
    "name": "ipython",
    "version": 3
   },
   "file_extension": ".py",
   "mimetype": "text/x-python",
   "name": "python",
   "nbconvert_exporter": "python",
   "pygments_lexer": "ipython3",
   "version": "3.8.8"
  }
 },
 "nbformat": 4,
 "nbformat_minor": 5
}
